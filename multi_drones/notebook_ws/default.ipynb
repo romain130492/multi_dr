{
 "cells": [
  {
   "cell_type": "markdown",
   "metadata": {},
   "source": [
    "<div class=\"jumbotron m-0\">\n",
    "    <hr />\n",
    "    <h1 class=\"text-center\">\n",
    "        <span class=\"text-primary\">Multi Drone SIMULATION\n",
    "</span>\n",
    "    </h1>\n",
    "    <hr />\n",
    "</div>"
   ]
  },
  {
   "cell_type": "markdown",
   "metadata": {},
   "source": [
    "<div class=\"bg-primary text-center\">\n",
    "    - Summary -\n",
    "</div>"
   ]
  },
  {
   "cell_type": "markdown",
   "metadata": {},
   "source": [
    "* [1.0 Environment](#Environment)\n",
    "* [1.1 Drones](#Drones-in-Stonehenge)\n",
    "* [1.2 TF Tree](#TF-Tree-Drones)\n",
    "* [1.3 Controlling the Drones](#Controlling-the-Drones)\n",
    "* [1.4 Drone Camera](#Drone-Camera)\n",
    "* [1.5 Drone Velodyne](#Drone-Velodyne)\n",
    "* [1.6 Other Sensors](#Other-Sensors)\n",
    "* [1.7 Sources and Thanks](#Thanks)"
   ]
  },
  {
   "cell_type": "markdown",
   "metadata": {},
   "source": [
    "<div class=\"bg-primary text-center\">\n",
    "    - End of Summary -\n",
    "</div>"
   ]
  },
  {
   "cell_type": "markdown",
   "metadata": {},
   "source": [
    "<a id='sim'></a>"
   ]
  },
  {
   "cell_type": "markdown",
   "metadata": {},
   "source": [
    "## Environment"
   ]
  },
  {
   "cell_type": "markdown",
   "metadata": {},
   "source": [
    "<img src=\"images/demo1_simulation.png\"/>\n",
    "\n",
    "**Drones in Stonehenge Demo**"
   ]
  },
  {
   "cell_type": "markdown",
   "metadata": {},
   "source": [
    "* This is a simulation of a multi-drone environment, featuring up to three quadcopter drones.\n",
    "* The drones are based on the Sjtu drone model, known for their robust and agile design.\n",
    "* Each quadcopter is equipped with advanced sensors that enable them to perform precise and complex movements within the Stonehenge environment.\n",
    "* The simulation is set in a realistic Stonehenge environment, which includes many large stones and open areas, creating a challenging scenario for navigation tasks.\n",
    "* The teleop package is utilized for manual control, allowing the user to navigate each drone through the Stonehenge environment, control their speeds, and perform various maneuvers efficiently and safely.\n",
    "* The objective of this simulation is to command multiple drones for different applications, including coordinated navigation, and task execution within the historic Stonehenge site."
   ]
  },
  {
   "cell_type": "markdown",
   "metadata": {},
   "source": [
    "<a id='demos'></a>"
   ]
  },
  {
   "cell_type": "markdown",
   "metadata": {},
   "source": [
    "## Drones in Stonehenge"
   ]
  },
  {
   "cell_type": "markdown",
   "metadata": {},
   "source": [
    "* In this simulation, we utilize multiple quadcopter drones equipped with advanced sensors and navigation systems.\n",
    "* The environment is a realistic and historic Stonehenge site, featuring large stones and open areas, creating a complex and challenging scenario for the drones.\n",
    "* The goal of the quadcopter drones is to navigate and coordinate the drones through the Stonehenge environment.\n",
    "* The sensors available for the drones are:\n",
    "    * Front camera: For forward-facing vision tasks, aiding in navigation and obstacle detection.\n",
    "    * Downlooking camera: For ground observation, assisting in precise landing and floor-level navigation.\n",
    "    * Sonar: For close-range obstacle detection, enhancing safety during flight.\n",
    "    * IMU (Inertial Measurement Unit): For stable flight and precise motion tracking, ensuring accurate navigation and maneuvering.\n",
    "    * GPS sensor: For global positioning, aiding in overall navigation and providing accurate location data.\n",
    "* Upon launching the simulation in Gazebo, you'll observe the following setup:\n",
    "Each quadcopter drone is positioned at the starting point within the Stonehenge site, ready to begin its mission of scanning Apriltags and performing various tasks. The Stonehenge environment is designed to challenge the drones with different obstacles and navigation tasks, making it an ideal testbed for autonomous flight and task execution capabilities.\n"
   ]
  },
  {
   "cell_type": "markdown",
   "metadata": {},
   "source": [
    "<img src=\"images/demo1_start.png\"/>"
   ]
  },
  {
   "cell_type": "markdown",
   "metadata": {},
   "source": [
    "## TF Tree Drones"
   ]
  },
  {
   "cell_type": "markdown",
   "metadata": {},
   "source": [
    "When spawning multiple drones in a simulation environment, it is essential to use namespaces for each drone's links. This ensures that the TF tree remains organized and prevents conflicts between the frames of different drones. Using namespaces allows each drone to have its own set of uniquely identified links, making it easier to manage and visualize their individual frames.\n",
    "\n",
    "Example TF Tree with Namespaced Links\n",
    "The image below illustrates the TF tree for a simulation environment with three drones, each having its own namespace:"
   ]
  },
  {
   "cell_type": "markdown",
   "metadata": {
    "tags": []
   },
   "source": [
    "<img src=\"images/tf_tree.png\"/>"
   ]
  },
  {
   "cell_type": "markdown",
   "metadata": {},
   "source": [
    "You can generate this image in a pdf format running the following command:"
   ]
  },
  {
   "cell_type": "raw",
   "metadata": {},
   "source": [
    "ros2 run tf2_tools view_frames"
   ]
  },
  {
   "cell_type": "markdown",
   "metadata": {},
   "source": [
    "### Importance of Namespaces\n",
    "Using namespaces ensures that each drone's TF frames are uniquely identified, preventing any overlap or conflicts between the frames of different drones. This organization is crucial for correctly visualizing and managing the TF tree, especially in complex environments with multiple robots.\n",
    "\n",
    "By following this approach, you can spawn multiple drones in your simulation environment, each with its own set of namespaced links, ensuring clear and organized TF trees for effective navigation and task execution."
   ]
  },
  {
   "cell_type": "markdown",
   "metadata": {},
   "source": [
    "### Namespaced Topics\n",
    "In addition to namespaced links, it is crucial to use namespaced topics for each drone to prevent conflicts and ensure organized communication channels. Each drone should publish and subscribe to topics within its own namespace.\n",
    "\n",
    "For example, the topic for controlling the velocity of Drone 1 is drone1/cmd_vel. This namespaced topic allows for specific control commands to be sent to Drone 1 without interfering with the commands for other drones."
   ]
  },
  {
   "cell_type": "markdown",
   "metadata": {},
   "source": [
    "## Controlling the Drones"
   ]
  },
  {
   "cell_type": "markdown",
   "metadata": {},
   "source": [
    "The teleop package provides a simple way to manually control the drone using keyboard inputs. This package translates keyboard commands into velocity commands that can be sent to the drone, allowing for intuitive and straightforward control. Below are the instructions to take off, control the drone using the keyboard, and land the drone."
   ]
  },
  {
   "cell_type": "markdown",
   "metadata": {
    "tags": []
   },
   "source": [
    "### Multiple Takeoff Command"
   ]
  },
  {
   "cell_type": "markdown",
   "metadata": {},
   "source": [
    "To initiate the takeoff sequence for the 3 drones, use the following command (indicating the number of drones that you want to takeoff). This command publishes an empty message to the `/drone1/takeoff`, `/drone2/takeoff` and `/drone3/takeoff`  topic, instructing the drones to take off at the same time. You should expect the following behavior:"
   ]
  },
  {
   "cell_type": "raw",
   "metadata": {},
   "source": [
    "ros2 run sjtu_drone_bringup multiple_takeoff 3"
   ]
  },
  {
   "cell_type": "markdown",
   "metadata": {
    "tags": []
   },
   "source": [
    "<img src=\"images/multi_takeoff.gif\"/>"
   ]
  },
  {
   "cell_type": "markdown",
   "metadata": {
    "tags": []
   },
   "source": [
    "### Teleop Command"
   ]
  },
  {
   "cell_type": "markdown",
   "metadata": {
    "tags": []
   },
   "source": [
    "Once the drone is airborne, you can control a `single drone` movements using the teleop package. The command below launches the teleop_twist_keyboard node, which allows you to control the drone using your keyboard. The velocity commands are remapped to the `/drone1/cmd_vel` (with 1 the number of the drone you want to control) topic."
   ]
  },
  {
   "cell_type": "raw",
   "metadata": {},
   "source": [
    "ros2 run teleop_twist_keyboard teleop_twist_keyboard --ros-args --remap cmd_vel:=/drone1/cmd_vel"
   ]
  },
  {
   "cell_type": "raw",
   "metadata": {},
   "source": [
    "After the command you can control the robot with the following keys:\n",
    "\n",
    "---------------------------\n",
    "Moving around:\n",
    "   u    i    o\n",
    "   j    k    l\n",
    "   m    ,    .\n",
    "\n",
    "For Holonomic mode (strafing), hold down the shift key:\n",
    "\n",
    "---------------------------\n",
    "   U    I    O\n",
    "   J    K    L\n",
    "   M    <    >\n",
    "\n",
    "t : up (+z)\n",
    "b : down (-z)\n",
    "\n",
    "anything else : stop\n",
    "\n",
    "q/z : increase/decrease max speeds by 10%\n",
    "w/x : increase/decrease only linear speed by 10%\n",
    "e/c : increase/decrease only angular speed by 10%"
   ]
  },
  {
   "cell_type": "markdown",
   "metadata": {},
   "source": [
    "<img src=\"images/teleop.gif\"/>"
   ]
  },
  {
   "cell_type": "markdown",
   "metadata": {
    "tags": []
   },
   "source": [
    "### Figures Command"
   ]
  },
  {
   "cell_type": "markdown",
   "metadata": {},
   "source": [
    "In this simulation, you can reate features that allows the drones to perform a coordinated movements. This function is designed to control multiple drones, making them fly in a synchronized figure. For example here we can make a circle runnig the following command:"
   ]
  },
  {
   "cell_type": "raw",
   "metadata": {},
   "source": [
    "ros2 run sjtu_drone_bringup move_drones_in_circles 3 10 30"
   ]
  },
  {
   "cell_type": "markdown",
   "metadata": {},
   "source": [
    "This can be achieved using a specific ROS 2 command that specifies the number of drones, the period of the circle, and the duration of the movement. We will see the following result:"
   ]
  },
  {
   "cell_type": "markdown",
   "metadata": {},
   "source": [
    "<img src=\"images/multi_drone_circle.gif\"/>"
   ]
  },
  {
   "cell_type": "markdown",
   "metadata": {
    "tags": []
   },
   "source": [
    "### Landing Command"
   ]
  },
  {
   "cell_type": "markdown",
   "metadata": {
    "tags": []
   },
   "source": [
    "To safely land the 3 drones, use the following command (indicating the number of drones that you want to takeoff). This command publishes an empty message to the `/drone1/land`, `/drone2/land` and `/drone3/land` topic, instructing the drones to land at the same time. You should expect the following behavior:"
   ]
  },
  {
   "cell_type": "raw",
   "metadata": {},
   "source": [
    "ros2 run sjtu_drone_bringup multiple_landing 3"
   ]
  },
  {
   "cell_type": "markdown",
   "metadata": {
    "tags": []
   },
   "source": [
    "<img src=\"images/multi_landing.gif\"/>"
   ]
  },
  {
   "cell_type": "markdown",
   "metadata": {},
   "source": [
    "## Drone Camera"
   ]
  },
  {
   "cell_type": "markdown",
   "metadata": {},
   "source": [
    "Each quadcopter drone is equipped with two cameras: a front camera and a downlooking camera. These cameras play a crucial role in navigation, obstacle detection, and task execution. The front camera provides a forward-facing view, essential for navigating through the environment, while the downlooking camera offers a view of the ground, aiding in precise landing and ground-level inspections."
   ]
  },
  {
   "cell_type": "markdown",
   "metadata": {},
   "source": [
    "To visualize the front camera feed in RViz, add an Image display and set the topic to `/drone1/front/image_raw` (1 as the number of the drone you want to see). Also to visualize the downlooking camera feed in RViz, add an Image display and set the topic to `/drone1/bottom/image_raw`. This will allow you to see what the drone's downlooking camera sees."
   ]
  },
  {
   "cell_type": "markdown",
   "metadata": {},
   "source": [
    "## Drone Velodyne"
   ]
  },
  {
   "cell_type": "markdown",
   "metadata": {},
   "source": [
    "Each quadcopter drone is equipped with a Velodyne LIDAR sensor, which is essential for creating detailed 3D maps of the environment. The Velodyne LIDAR emits laser pulses and measures the time it takes for the pulses to return after hitting an object. This data is used to create a precise 3D representation of the surroundings, which is crucial for navigation, obstacle avoidance, and environmental mapping."
   ]
  },
  {
   "cell_type": "markdown",
   "metadata": {},
   "source": [
    "The topic where the LIDAR data is published is `/drone1/points_raw`. This topic provides point cloud data, which can be visualized in RViz or used for further processing."
   ]
  },
  {
   "cell_type": "markdown",
   "metadata": {},
   "source": [
    "## Other Sensors"
   ]
  },
  {
   "cell_type": "markdown",
   "metadata": {},
   "source": [
    "In addition to the Velodyne LIDAR and IMU, the quadcopter drone is equipped with Sonar and GPS sensors. These sensors play important roles in enhancing the drone's navigation and environmental awareness capabilities."
   ]
  },
  {
   "cell_type": "markdown",
   "metadata": {
    "tags": []
   },
   "source": [
    "### Sonar Sensor"
   ]
  },
  {
   "cell_type": "markdown",
   "metadata": {},
   "source": [
    "The Sonar sensor is used for close-range obstacle detection. It emits sound waves and measures the time it takes for the echoes to return after hitting an object. This information helps the drone detect obstacles in its immediate vicinity, enhancing safety during flight.\n",
    "\n",
    "The data from the Sonar sensor is published to the `/drone1/sonar` (1 as the number of the drone) topic. This topic provides distance measurements to nearby objects, which can be used for obstacle avoidance and precise navigation."
   ]
  },
  {
   "cell_type": "markdown",
   "metadata": {
    "tags": []
   },
   "source": [
    "### GPS Sensor"
   ]
  },
  {
   "cell_type": "markdown",
   "metadata": {},
   "source": [
    "The GPS (Global Positioning System) sensor provides accurate location data, which is essential for global navigation and positioning. The GPS sensor allows the drone to determine its exact position in the environment, aiding in route planning and long-distance navigation.\n",
    "\n",
    "The GPS data is published to the `/drone1/gps` (1 as the number of the drone) topic. This topic includes information about the drone's latitude, longitude, and altitude, enabling it to navigate effectively over large distances and in complex environments."
   ]
  },
  {
   "cell_type": "markdown",
   "metadata": {},
   "source": [
    "* ROS Version\n",
    "    * This simulation has been tested in `ROS2 Humble`."
   ]
  },
  {
   "cell_type": "markdown",
   "metadata": {},
   "source": [
    "<a id='thanks'></a>"
   ]
  },
  {
   "cell_type": "markdown",
   "metadata": {},
   "source": [
    "## Thanks"
   ]
  },
  {
   "cell_type": "markdown",
   "metadata": {},
   "source": [
    "* This course would not have been possible without the knowledge and work of the [ROS Community](http://www.ros.org/), [OSRF](https://www.osrfoundation.org/), and [Gazebo Team](http://gazebosim.org/)."
   ]
  },
  {
   "cell_type": "markdown",
   "metadata": {},
   "source": [
    "<img src=\"images/osrf_logo.png\" width=\"800\"/>"
   ]
  },
  {
   "cell_type": "markdown",
   "metadata": {},
   "source": [
    "* Thanks to [BLENDER](https://www.blender.org/) for their amaizing tool"
   ]
  },
  {
   "cell_type": "markdown",
   "metadata": {},
   "source": [
    "<img src=\"images/blender.png\" width=\"800\"/>"
   ]
  },
  {
   "cell_type": "markdown",
   "metadata": {},
   "source": [
    "<a id='setup'></a>"
   ]
  },
  {
   "cell_type": "markdown",
   "metadata": {},
   "source": [
    "<img src=\"images/English-Proofread-Pending-TCS.png\" width=\"200\"/>"
   ]
  }
 ],
 "metadata": {
  "kernelspec": {
   "display_name": "Python 2",
   "language": "python",
   "name": "python2"
  },
  "language_info": {
   "codemirror_mode": {
    "name": "ipython",
    "version": 2
   },
   "file_extension": ".py",
   "mimetype": "text/x-python",
   "name": "python",
   "nbconvert_exporter": "python",
   "pygments_lexer": "ipython2",
   "version": "2.7.16"
  }
 },
 "nbformat": 4,
 "nbformat_minor": 4
}
